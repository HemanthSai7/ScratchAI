{
  "cells": [
    {
      "cell_type": "markdown",
      "source": [
        "## README\n",
        "To run the file, upload the data.csv file. In my case, I have uploaded it to sample_data folder in session storage. You can upload it elsewhere but remember to change the path mentioned in code afterwards."
      ],
      "metadata": {
        "id": "SoWKE7fEIMEi"
      }
    },
    {
      "cell_type": "markdown",
      "source": [
        "# Multiple Linear Regression\n",
        "### Using Gradient Descent"
      ],
      "metadata": {
        "id": "jQWnqkHCH6ln"
      }
    },
    {
      "cell_type": "code",
      "execution_count": null,
      "metadata": {
        "id": "pcN9YClQHU9i"
      },
      "outputs": [],
      "source": [
        "import numpy as np\n",
        "import pandas as pd"
      ]
    },
    {
      "cell_type": "code",
      "execution_count": null,
      "metadata": {
        "id": "OczzR2KGHU9l"
      },
      "outputs": [],
      "source": [
        "batch_size = 1000\n",
        "learning_rate = 0.000001\n",
        "num_of_epoch = 10000\n",
        "test_training_ratio = 0.2\n",
        "dataset_path = '/content/sample_data/data.csv'"
      ]
    },
    {
      "cell_type": "code",
      "execution_count": null,
      "metadata": {
        "id": "TqoZARBKHU9m"
      },
      "outputs": [],
      "source": [
        "# Read the dataset\n",
        "df = pd.read_csv(dataset_path) \n",
        "df.head()"
      ]
    },
    {
      "cell_type": "code",
      "execution_count": null,
      "metadata": {
        "id": "LWBsgFL2HU9o"
      },
      "outputs": [],
      "source": [
        "# Total_X is a matrix the size of 9568 X 4\n",
        "total_X = df.iloc[:, :-1].values \n",
        "\n",
        "# Total_Y is a vector the size of 9568\n",
        "total_y = df.iloc[:, -1].values  "
      ]
    },
    {
      "cell_type": "code",
      "execution_count": null,
      "metadata": {
        "colab": {
          "base_uri": "https://localhost:8080/"
        },
        "id": "an5C6G4GHU9p",
        "outputId": "78b44bdf-1185-4852-bb81-ed73c8c66e13"
      },
      "outputs": [
        {
          "output_type": "stream",
          "name": "stdout",
          "text": [
            "[[1.00000e+00 8.34000e+00 4.07700e+01 1.01084e+03 9.00100e+01]\n",
            " [1.00000e+00 2.36400e+01 5.84900e+01 1.01140e+03 7.42000e+01]\n",
            " [1.00000e+00 2.97400e+01 5.69000e+01 1.00715e+03 4.19100e+01]\n",
            " [1.00000e+00 1.90700e+01 4.96900e+01 1.00722e+03 7.67900e+01]\n",
            " [1.00000e+00 1.18000e+01 4.06600e+01 1.01713e+03 9.72000e+01]]\n"
          ]
        }
      ],
      "source": [
        "b = np.ones((total_X.shape[0],total_X.shape[1]+1)) # b is a 9568 X 5 matrix filled with ones.\n",
        "b[:, 1:] = total_X #b is the total_X matrix except with first column filled with ones\n",
        "total_X = b #reassign\n",
        "print(total_X[:5])"
      ]
    },
    {
      "cell_type": "markdown",
      "source": [
        "In order for us to verify the accuracy later, we will reserve about 20% of the whole dataset."
      ],
      "metadata": {
        "id": "rGcm0qsTsBYu"
      }
    },
    {
      "cell_type": "code",
      "execution_count": null,
      "metadata": {
        "id": "3ZznhA1lHU9q"
      },
      "outputs": [],
      "source": [
        "num_of_testing_example    = int(test_training_ratio*total_X.shape[0]) # (20/100) * 9568 = 1913.6. After flooring, 1913\n",
        "num_of_training_example   = total_X.shape[0] - num_of_testing_example # 9568 - 1913 = 7655\n",
        "X                         = total_X[:num_of_training_example] #matrix of size 7655 X 4. input X (according to the pdf note)\n",
        "y                         = total_y[:num_of_training_example] #vector of size 7655. input y (according to the pdf note)\n",
        "X_test                    = total_X[num_of_training_example:] #matrix of size 1913 X 4\n",
        "y_test                    = total_y[num_of_training_example:] #vector of size 1913"
      ]
    },
    {
      "cell_type": "code",
      "execution_count": null,
      "metadata": {
        "id": "4kmMoNR3HU9q"
      },
      "outputs": [],
      "source": [
        "theta = np.random.rand((X.shape[1])) #randomly initialize theta as a vector of size 5"
      ]
    },
    {
      "cell_type": "markdown",
      "source": [
        "Parameters :\n",
        "\n",
        "    data_point : Batches of rows in the training set matrix\n",
        "    theta: theta vector\n",
        "\n",
        "    Process : matrix (data points) multiplies vector (theta) \n",
        "\n",
        "    Output : prediction of the model, y_hat or h(X)"
      ],
      "metadata": {
        "id": "c1tjdBu4Icnr"
      }
    },
    {
      "cell_type": "code",
      "execution_count": null,
      "metadata": {
        "id": "e_DkDC3SHU9r"
      },
      "outputs": [],
      "source": [
        "def find_y_hat(data_point,theta):\n",
        "    return np.dot(data_point, theta) "
      ]
    },
    {
      "cell_type": "code",
      "execution_count": null,
      "metadata": {
        "id": "MVhlFsvtHU9s"
      },
      "outputs": [],
      "source": [
        "def testing_with_MSE():\n",
        "    \n",
        "    diff = X_test.dot(theta) - y_test #calculate (h(x) - y)\n",
        "    \n",
        "    loss = (1/(2*X_test.shape[0]))*(diff.dot(diff)) #calculate the loss using the defined equation\n",
        "    \n",
        "    print(\"Testing loss with MSE is : \", loss)\n",
        "    \n",
        "def testing_with_R2():\n",
        "    \n",
        "    diff = X_test.dot(theta) - y_test #calculates h(x) - y\n",
        "\n",
        "    u = sum(np.square(diff)) #variance of the data from the prediction model\n",
        "    v = sum(np.square(y_test - np.mean(y_test))) #variance of the original data\n",
        "\n",
        "    print(\"The testing loss with R2 is :\", (1 - (u/v))) #print the R2 coefficient\n",
        "\n",
        "\n",
        "testing_with_MSE() #run the testing with MSE before the training begins\n",
        "testing_with_R2() #run the testing with R2 before the training begins"
      ]
    },
    {
      "cell_type": "code",
      "execution_count": null,
      "metadata": {
        "id": "x9DAlWRVHU9s"
      },
      "outputs": [],
      "source": [
        "for epoch in range(num_of_epoch):\n",
        "    \n",
        "    diff = X.dot(theta) - y #calculate (h(x) - y)\n",
        "    \n",
        "    loss = (1/(2*X.shape[0]))*(diff.dot(diff))  #calculate the loss using the defined equation\n",
        "    \n",
        "    for index_first in range(0, X.shape[0], batch_size): #loop through the dataset with the given batch size\n",
        "        \n",
        "        index_last = index_first + batch_size #index_first - index_last = batch size\n",
        "        index_last = None if index_last > X.shape[0] else index_last #if index_last > total no. of data points, it will be set to None\n",
        "        \n",
        "        y_hat = find_y_hat(X[index_first:index_last], theta) #predicted output\n",
        "        \n",
        "        m = y_hat.shape[0] # number of data points i.e. batch size\n",
        "        \n",
        "        y_hat_diff = y_hat - y[index_first:index_last] #calculate (h(x) - y)\n",
        "        \n",
        "        \n",
        "        for j in range(theta.shape[0]): #gradient descent\n",
        "        \n",
        "            x_j = X[index_first:index_last, j] #get the x_j vector for that specified batch size\n",
        "        \n",
        "            par_der = (1/m)*(y_hat_diff.dot(x_j)) #calculate the partial derivative\n",
        "            \n",
        "            theta[j] = theta[j] - learning_rate*par_der\n",
        "    \n",
        "    if epoch % 1000 == 0: #print loss for every 500 epoch starting from 0th epoch\n",
        "        print(\"Epoch : \", epoch)\n",
        "        print(\"Loss : \", loss)\n",
        "    "
      ]
    },
    {
      "cell_type": "code",
      "execution_count": null,
      "metadata": {
        "id": "NtVREv88HU9u"
      },
      "outputs": [],
      "source": [
        "print(theta)"
      ]
    },
    {
      "cell_type": "code",
      "execution_count": null,
      "metadata": {
        "id": "jFHrWhu7HU9u"
      },
      "outputs": [],
      "source": [
        "testing_with_MSE() #as expected gradient descent optimization works slightly worse than the normal equation method.\n",
        "testing_with_R2()"
      ]
    },
    {
      "cell_type": "code",
      "execution_count": null,
      "metadata": {
        "id": "AdhHZ-wDHU9v"
      },
      "outputs": [],
      "source": [
        "X_test.dot(theta)- y_test"
      ]
    }
  ],
  "metadata": {
    "kernelspec": {
      "display_name": "nasa",
      "language": "python",
      "name": "nasa"
    },
    "language_info": {
      "codemirror_mode": {
        "name": "ipython",
        "version": 3
      },
      "file_extension": ".py",
      "mimetype": "text/x-python",
      "name": "python",
      "nbconvert_exporter": "python",
      "pygments_lexer": "ipython3",
      "version": "3.5.2"
    },
    "colab": {
      "provenance": []
    }
  },
  "nbformat": 4,
  "nbformat_minor": 0
}