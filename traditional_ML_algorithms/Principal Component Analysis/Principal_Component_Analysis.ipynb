{
  "cells": [
    {
      "cell_type": "markdown",
      "source": [
        "## README\n",
        "To run the file, upload the data.csv file. In my case, I have uploaded it to sample_data folder in session storage. You can upload it elsewhere but remember to change the path mentioned in code afterwards."
      ],
      "metadata": {
        "id": "YHDi1DNIb6zw"
      }
    },
    {
      "cell_type": "markdown",
      "source": [
        "# Principal Component Analysis\n",
        "Principal Component Analysis (PCA) is an algorithm that reduces the dimen\u0002sionality of a data set to a lower-dimensional linear subspace by linear projection\n",
        "in such a way that the reconstruction error made by the linear projection is as\n",
        "low as possible."
      ],
      "metadata": {
        "id": "aNiQmgXNbaxJ"
      }
    },
    {
      "cell_type": "code",
      "execution_count": 18,
      "metadata": {
        "id": "qmZwMukZKyXr"
      },
      "outputs": [],
      "source": [
        "import numpy as np\n",
        "import pandas as pd\n",
        "from sklearn.preprocessing import StandardScaler"
      ]
    },
    {
      "cell_type": "code",
      "execution_count": null,
      "metadata": {
        "id": "38pLsddIKyXw"
      },
      "outputs": [],
      "source": [
        "data = pd.read_csv('/content/sample_data/data.csv')\n",
        "data.head()"
      ]
    },
    {
      "cell_type": "code",
      "execution_count": 20,
      "metadata": {
        "id": "M-5p83JXKyXy"
      },
      "outputs": [],
      "source": [
        "# X should be transposed to convert rows to features and columns to data points\n",
        "# 12 x 517 size matrix where there are 12 features and 517 data points\n",
        "X = np.transpose(data.iloc[:, :-1].values)\n",
        "\n",
        "# Get the last column of the matrix\n",
        "label = data.iloc[:, -1].values\n",
        "\n",
        "# X = StandardScaler().fit_transform(X) #standardize the data\n",
        "# X.shape"
      ]
    },
    {
      "cell_type": "code",
      "execution_count": 21,
      "metadata": {
        "id": "Vqn7TLhkKyXz"
      },
      "outputs": [],
      "source": [
        "mean_vector = np.mean(X, axis=1)\n",
        "mean_matrix = np.tile(mean_vector, (X.shape[1],1))\n",
        "X = X - mean_matrix.T"
      ]
    },
    {
      "cell_type": "code",
      "execution_count": 22,
      "metadata": {
        "id": "1dfX5uokKyX0"
      },
      "outputs": [],
      "source": [
        "# Covariance matrix of X\n",
        "Cov = (np.dot(X, X.T))/(X.shape[1])\n",
        "# Cov = np.cov(X)\n",
        "\n",
        "# Get the dimension of the covariance matrix\n",
        "n = Cov.shape[0] \n",
        "\n",
        "q = 5 #dimension of the lower-dimensional subspace\n",
        "# Cov.shape"
      ]
    },
    {
      "cell_type": "markdown",
      "source": [
        "# Reconstruction"
      ],
      "metadata": {
        "id": "knqvzxPZbvV8"
      }
    },
    {
      "cell_type": "code",
      "execution_count": 23,
      "metadata": {
        "id": "JvTs2QONKyX1"
      },
      "outputs": [],
      "source": [
        "# Corresponding Eigenvalues and Eigenvectors for Cov.\n",
        "eigenvalue, eigenvector = np.linalg.eig(Cov)\n",
        "\n",
        "# Order in decreasing order\n",
        "eigval_eigvec = list(zip(*sorted(zip(eigenvalue,eigenvector), reverse=True)))\n",
        "\n",
        "# Get eigenvectors in rows instead of columns\n",
        "principal_components = np.asarray(list(eigval_eigvec[1][:])).T\n",
        "\n",
        "P = principal_components[:q] # q x 12 matrix with q leading principal components in each row.\n",
        "\n",
        "# Transform X to get reconstructed data points\n",
        "Y = np.dot(P, X) \n",
        "# Y.shape"
      ]
    },
    {
      "cell_type": "code",
      "execution_count": 24,
      "metadata": {
        "colab": {
          "base_uri": "https://localhost:8080/"
        },
        "id": "q6TK8MmTKyX6",
        "outputId": "601a8db2-cdc1-4b27-90d6-7f894c6d959c"
      },
      "outputs": [
        {
          "output_type": "stream",
          "name": "stdout",
          "text": [
            "PCA Loss :  0.037985574963925774 %\n"
          ]
        }
      ],
      "source": [
        "# Total Loss\n",
        "variance_loss = sum(eigval_eigvec[0][q:]) \n",
        "\n",
        "# Total variance\n",
        "total_variance = sum(eigval_eigvec[0][:]) \n",
        "\n",
        "# Percentage loss\n",
        "print(\"PCA Loss : \", (variance_loss/total_variance)*100, \"%\") "
      ]
    },
    {
      "cell_type": "code",
      "execution_count": null,
      "metadata": {
        "id": "ogv_58ZiKyX8"
      },
      "outputs": [],
      "source": [
        "# To compare the linear regression prediction on the original data points \n",
        "# and the reconstructed data points.\n",
        "from sklearn.linear_model import LinearRegression\n",
        "import datetime\n",
        "\n",
        "# Fit the original data with the label\n",
        "start_time = datetime.datetime.now()\n",
        "reg_original_data = LinearRegression().fit(X.T,label) \n",
        "\n",
        "# Calculate the R2 coefficient on the training data itself\n",
        "print(\"The R2 coefficient is : \", reg_original_data.score(X.T, label)) \n",
        "\n",
        "# Calculate total elapsed time\n",
        "end_time = datetime.datetime.now()\n",
        "print(\"Total elapsed time : \", end_time - start_time)"
      ]
    },
    {
      "cell_type": "code",
      "execution_count": null,
      "metadata": {
        "id": "io41xcGyKyX9"
      },
      "outputs": [],
      "source": [
        "# Fit the reconstructed data points with the label\n",
        "start_time = datetime.datetime.now()\n",
        "reg_pca_data = LinearRegression().fit(Y.T, label) \n",
        "\n",
        "# Calculate the R2 coefficient with the training data itself\n",
        "print(\"The R2 coefficient is : \", reg_pca_data.score(Y.T, label))  \n",
        "\n",
        "# Calculate total elapsed time\n",
        "end_time = datetime.datetime.now()\n",
        "print(\"Total elapsed time : \", end_time - start_time)"
      ]
    },
    {
      "cell_type": "markdown",
      "source": [
        "# Observation\n",
        "It can be seen that even though the reconstructed data points has a lower R2 coefficient, it saves some time\n",
        "during the modelling of the linear regression. The time saved might be small for this example, but it makes a lot\n",
        "of difference when it comes to higher dimensional dataset and more complex modelling techniques. Linear Regression\n",
        "was just used for simplicity sake to show the working principles of PCA. That is, even though the dimension\n",
        "from the original data points has been reduced drastically, the reconstructed data points can still provide\n",
        "linear regression enough information to model the relationships between the dependent and independent variables."
      ],
      "metadata": {
        "id": "s_KrCSPwatJs"
      }
    },
    {
      "cell_type": "code",
      "execution_count": null,
      "metadata": {
        "id": "Xm0_oRA_KyX-"
      },
      "outputs": [],
      "source": [
        "from sklearn.decomposition import PCA #using PCA from the sklearn \n",
        "pca = PCA(n_components=q)\n",
        "pca.fit(X.T)\n",
        "Y_2 = np.transpose(pca.transform(X.T))\n",
        "Y_2.shape"
      ]
    },
    {
      "cell_type": "code",
      "execution_count": null,
      "metadata": {
        "id": "Q0F63r1EKyX_"
      },
      "outputs": [],
      "source": [
        "# Difference between the principal components (my implementation) and Sklearn's implementation\n",
        "diff = sum(sum(pca.components_) - sum(P)) \n",
        "print(diff)"
      ]
    },
    {
      "cell_type": "markdown",
      "source": [
        "## Differences\n",
        "The difference between the principal components are not that much. Sklearn's PCA uses normalizations on the data, hence provides a slightly different result than my implementation."
      ],
      "metadata": {
        "id": "QmIU3PpJbMxo"
      }
    }
  ],
  "metadata": {
    "kernelspec": {
      "display_name": "Python 3.10.6 64-bit",
      "language": "python",
      "name": "python3"
    },
    "language_info": {
      "codemirror_mode": {
        "name": "ipython",
        "version": 3
      },
      "file_extension": ".py",
      "mimetype": "text/x-python",
      "name": "python",
      "nbconvert_exporter": "python",
      "pygments_lexer": "ipython3",
      "version": "3.10.6"
    },
    "vscode": {
      "interpreter": {
        "hash": "2a8dfe095fce2b5e88c64a2c3ee084c8e0e0d70b23e7b95b1cfb538be294c5c8"
      }
    },
    "colab": {
      "provenance": [],
      "collapsed_sections": []
    }
  },
  "nbformat": 4,
  "nbformat_minor": 0
}